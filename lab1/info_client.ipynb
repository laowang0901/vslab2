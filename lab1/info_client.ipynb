{
 "cells": [
  {
   "cell_type": "code",
   "execution_count": 1,
   "id": "32c3a476-92f1-4eae-925c-646e89283c58",
   "metadata": {},
   "outputs": [
    {
     "name": "stderr",
     "output_type": "stream",
     "text": [
      "2024-11-07 13:27:07,272 - vs2lab.a1_layers.clientserver.Client - INFO - Client connected to socket <socket.socket fd=47, family=2, type=1, proto=0, laddr=('127.0.0.1', 47756), raddr=('127.0.0.1', 50007)>\n",
      "2024-11-07 13:27:07,277 - vs2lab.a1_layers.clientserver.Client - INFO - Client down.\n"
     ]
    },
    {
     "name": "stdout",
     "output_type": "stream",
     "text": [
      "alice : 1234\n",
      "bob : 5678\n",
      "\n"
     ]
    },
    {
     "data": {
      "text/plain": [
       "'alice : 1234\\nbob : 5678\\n'"
      ]
     },
     "execution_count": 1,
     "metadata": {},
     "output_type": "execute_result"
    }
   ],
   "source": [
    "import info_clientserver\n",
    "client = info_clientserver.Client() # Create a client instance\n",
    "client.call(\"GETALL\")"
   ]
  },
  {
   "cell_type": "code",
   "execution_count": null,
   "id": "70519b4d",
   "metadata": {},
   "outputs": [],
   "source": []
  }
 ],
 "metadata": {
  "kernelspec": {
   "display_name": "Python 3 (ipykernel)",
   "language": "python",
   "name": "python3"
  },
  "language_info": {
   "codemirror_mode": {
    "name": "ipython",
    "version": 3
   },
   "file_extension": ".py",
   "mimetype": "text/x-python",
   "name": "python",
   "nbconvert_exporter": "python",
   "pygments_lexer": "ipython3",
   "version": "3.11.4"
  }
 },
 "nbformat": 4,
 "nbformat_minor": 5
}
