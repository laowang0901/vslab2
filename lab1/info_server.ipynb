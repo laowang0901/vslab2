{
 "cells": [
  {
   "cell_type": "code",
   "execution_count": 1,
   "metadata": {},
   "outputs": [],
   "source": [
    "import info_clientserver"
   ]
  },
  {
   "cell_type": "code",
   "execution_count": 2,
   "metadata": {},
   "outputs": [],
   "source": [
    "phonebook = {'alice': '1234', 'bob': '5678'}"
   ]
  },
  {
   "cell_type": "code",
   "execution_count": null,
   "metadata": {},
   "outputs": [
    {
     "name": "stderr",
     "output_type": "stream",
     "text": [
      "2024-11-07 13:26:04,782 - vs2lab.lab1.clientserver.Server - INFO - Server bound to socket <socket.socket fd=50, family=2, type=1, proto=0, laddr=('127.0.0.1', 50007)>\n",
      "2024-11-07 13:26:15,163 - vs2lab.lab1.clientserver.Server - INFO - Receive GET request\n",
      "2024-11-07 13:26:46,951 - vs2lab.lab1.clientserver.Server - INFO - Receive GET request\n",
      "2024-11-07 13:27:07,274 - vs2lab.lab1.clientserver.Server - INFO - Receive GETALL request\n"
     ]
    }
   ],
   "source": [
    "server = info_clientserver.Server() # Create a server instance\n",
    "server.serve(phonebook)"
   ]
  }
 ],
 "metadata": {
  "kernelspec": {
   "display_name": "Python 3 (ipykernel)",
   "language": "python",
   "name": "python3"
  },
  "language_info": {
   "codemirror_mode": {
    "name": "ipython",
    "version": 3
   },
   "file_extension": ".py",
   "mimetype": "text/x-python",
   "name": "python",
   "nbconvert_exporter": "python",
   "pygments_lexer": "ipython3",
   "version": "3.11.4"
  }
 },
 "nbformat": 4,
 "nbformat_minor": 4
}
